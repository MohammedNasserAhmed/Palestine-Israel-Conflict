{
 "cells": [
  {
   "cell_type": "code",
   "execution_count": 1,
   "metadata": {},
   "outputs": [
    {
     "name": "stderr",
     "output_type": "stream",
     "text": [
      "c:\\Users\\MohdNass\\anaconda3\\envs\\picenv\\lib\\site-packages\\pydantic\\_internal\\_config.py:334: UserWarning:\n",
      "\n",
      "Valid config keys have changed in V2:\n",
      "* 'schema_extra' has been renamed to 'json_schema_extra'\n",
      "\n"
     ]
    }
   ],
   "source": [
    "from src.components.pies import PieChart, PieChartM, Choice\n",
    "from src.components.bars import  StackBar, Bar, CustomBar\n",
    "from src.components.HSB import Bubbles, Scatter, Histogram\n",
    "from src.components.heatmaps import Heatmap\n",
    "from utils.data import Loader\n"
   ]
  },
  {
   "cell_type": "code",
   "execution_count": 2,
   "metadata": {},
   "outputs": [],
   "source": [
    "loader = Loader()\n",
    "Project_Path = \"E:\\MyOnlineCourses\\ML_Projects\\Palestine-Israel-Conflict\"\n",
    "csv_df = loader.read_csv(Project_Path +\"\\data\\ps_il.csv\")\n",
    "xls_df = loader.read_excel(Project_Path +\"\\data\\ps_il.xlsx\", header=0, usecols=[0,1,2,3,4])\n",
    "xls_features=[\"Fatalities\",\"Injuries\"]\n",
    "csv_features = [\"Palestinians Fatalities\",\"Israelis Fatalities\",\"Palestinians Injuries\",\"Israelis Injuries\"]"
   ]
  },
  {
   "cell_type": "markdown",
   "metadata": {},
   "source": [
    "### **Pie Chart**"
   ]
  },
  {
   "cell_type": "code",
   "execution_count": null,
   "metadata": {},
   "outputs": [],
   "source": [
    "title = \"<i>Human-Cost of the Palestine-Israel Conflict (2000 - April 2024)</i>\"\n",
    "paths = [Project_Path+\"\\images\\people.png\",\n",
    "         Project_Path+\"\\images\\people.png\"]\n",
    "\n",
    "piechart = PieChart(csv_df, title, variables= [csv_features[:2],csv_features[2:]],\n",
    "                  legend_labels=[\"Palestinians\", 'Israelis'], pie_labels=xls_features, images_path=paths)\n",
    "piechart.show_plot()"
   ]
  },
  {
   "cell_type": "markdown",
   "metadata": {},
   "source": [
    "### **Pie Chart Monthly**"
   ]
  },
  {
   "cell_type": "code",
   "execution_count": null,
   "metadata": {},
   "outputs": [],
   "source": [
    "choice = Choice.Fatalities\n",
    "piechart = PieChartM(csv_df, choice=choice)\n",
    "piechart.show_plot()"
   ]
  },
  {
   "cell_type": "markdown",
   "metadata": {},
   "source": [
    "### **Stacked Bar**\n",
    "\n",
    "Shown on Browser"
   ]
  },
  {
   "cell_type": "code",
   "execution_count": null,
   "metadata": {},
   "outputs": [],
   "source": [
    "stackbar = StackBar(csv_df, csv_features[0])\n",
    "stackbar.show_plot()\n"
   ]
  },
  {
   "cell_type": "markdown",
   "metadata": {},
   "source": [
    "### **Bar Chart**"
   ]
  },
  {
   "cell_type": "code",
   "execution_count": null,
   "metadata": {},
   "outputs": [],
   "source": [
    "bar = vbar(\n",
    "    csv_df,\n",
    "    \"Year\",\n",
    "    y_label=csv_features[2],\n",
    "    y_rotate=90)\n",
    "bar.plot()"
   ]
  },
  {
   "cell_type": "markdown",
   "metadata": {},
   "source": [
    "### **Customized Bar**"
   ]
  },
  {
   "cell_type": "code",
   "execution_count": null,
   "metadata": {},
   "outputs": [],
   "source": [
    "data = csv_df.to_dict(orient='records')\n",
    "title = \"Human Cost of Palestine-Israel Conflict From 2000 To April 2024\"\n",
    "signature = \"ainarabic.ai\"\n",
    "box_title = \"TOTAL fatalities and injuries\\n           2000 - 2023\"\n",
    "group_var = \"Year\"\n",
    "columns = [(\"Palestinians Injuries\",\"Palestinians Fatalities\"),(\"Israelis Injuries\",\"Israelis Fatalities\")]\n",
    "img_lbls = [(\"Palestinians\",\"Israelis\")]\n",
    "legend_lbls = [(\"Injuries\",\"Fatalities\")]\n",
    "psimg = Project_Path+\"\\images\\ps_h.png\"\n",
    "ilimg =Project_Path+\"\\images\\il_h.png\"\n",
    "img_paths = [psimg,\n",
    "                ilimg,\n",
    "                psimg,\n",
    "                ilimg]\n",
    "\n",
    "map_img = Project_Path+\"\\images\\pmap.png\"\n",
    "save_filename = Project_Path+\"\\outputs\\customizedbar.png\"\n",
    "cdp = CustomizedBar(data=data, \n",
    "                    title=title, \n",
    "                    box_title=box_title, \n",
    "                    gv=group_var, \n",
    "                    cols=columns, \n",
    "                    img_lbls=img_lbls, \n",
    "                    lgd_lbls=legend_lbls, \n",
    "                    img_paths=img_paths,\n",
    "                    map_img=map_img, \n",
    "                    signature=signature)\n",
    "cdp.show_plot()"
   ]
  },
  {
   "cell_type": "markdown",
   "metadata": {},
   "source": [
    "### **Bubbles Chart**"
   ]
  },
  {
   "cell_type": "code",
   "execution_count": null,
   "metadata": {},
   "outputs": [],
   "source": [
    "scatterplot = Bubbles(xls_df)\n",
    "scatterplot.show()"
   ]
  },
  {
   "cell_type": "markdown",
   "metadata": {},
   "source": [
    "### **PXScatter Chart**"
   ]
  },
  {
   "cell_type": "code",
   "execution_count": null,
   "metadata": {},
   "outputs": [],
   "source": [
    "data=csv_df.to_dict(orient=\"records\")\n",
    "scatter_plot = PXScatter(df=data,var = csv_features[3])\n",
    "scatter_plot.show()"
   ]
  },
  {
   "cell_type": "markdown",
   "metadata": {},
   "source": [
    "### **-END-**"
   ]
  },
  {
   "cell_type": "markdown",
   "metadata": {},
   "source": [
    "## **CODE SNIPPETS BELOW**"
   ]
  },
  {
   "cell_type": "markdown",
   "metadata": {},
   "source": [
    "## stack bar\n"
   ]
  },
  {
   "cell_type": "code",
   "execution_count": null,
   "metadata": {},
   "outputs": [],
   "source": [
    "# if __name__ == \"__main__\":\n",
    "#     Project_Path = \"E:\\MyOnlineCourses\\ML_Projects\\Palestine-Israel-Conflict\"\n",
    "#     df = pd.read_csv(Project_Path +\"\\data\\ps_il.csv\")\n",
    "#     choices = [\"Palestinians Fatalities\", 'Palestinians Injuries', 'Israelis Fatalities','Israelis Injuries']\n",
    "#     img_names = ['\\Scatter_ps_k','\\Scatter_ps_i','\\Scatter_il_k','\\Scatter_il_i']\n",
    "#     for choice, img in zip(choices,img_names):\n",
    "#         stackbar = StackBar(df, variable=choice, save_filename=Project_Path+\"\\outputs\"+img+\".html\")\n",
    "#         stackbar.show_plot()"
   ]
  },
  {
   "cell_type": "markdown",
   "metadata": {},
   "source": [
    "## HeatMap"
   ]
  },
  {
   "cell_type": "code",
   "execution_count": null,
   "metadata": {},
   "outputs": [],
   "source": [
    "# if __name__ == \"__main__\":\n",
    "#     Project_Path = \"E:\\MyOnlineCourses\\ML_Projects\\Palestine-Israel-Conflict\"\n",
    "#     df = pd.read_csv(Project_Path+\"\\data\\ps_il.csv\")\n",
    "#     choice = Choice.Fatalities\n",
    "#     save_filename =Project_Path+\"\\outputs\\Fheatmap\"\n",
    "    \n",
    "#     heatmap = HeatmapPlot(df = df, choice= choice, library = \"sns\", cmap = \"turbid\")  #tempo go #magma_r rocket_r sns\n",
    "#     heatmap.show(savefilename=save_filename)"
   ]
  },
  {
   "cell_type": "markdown",
   "metadata": {},
   "source": [
    "## Piecharts"
   ]
  },
  {
   "cell_type": "code",
   "execution_count": null,
   "metadata": {},
   "outputs": [],
   "source": [
    "# if __name__ == \"__main__\":\n",
    "\n",
    "    # Project_Path = \"E:\\MyOnlineCourses\\ML_Projects\\Palestine-Israel-Conflict\"\n",
    "    # df = pd.read_csv(Project_Path+\"\\data\\ps_il.csv\")\n",
    "    # colors= [\"#820300\",'#F4DFC8','#053B50']\n",
    "    # title = \"<b>Fatalities - Injuries<b><br>\" +\"<i>Human-Cost of the Palestine-Israel Conflict (2000 - April 2024)</i>\"\n",
    "    # #title= u\"ضحايا الصراع الفلسطيني الإسرائيلي من 2000 حتى 2023\"\n",
    "    # paths = [Project_Path+\"\\images\\people.png\",\n",
    "    #         Project_Path+\"\\images\\people.png\"]\n",
    "    # save_filename1 = Project_Path+\"\\outputs\\TotalPie.html\"\n",
    "    # piechart1 = PieChart(df, title, variables= [[\"Palestinians Fatalities\",\"Israelis Fatalities\"],[\"Palestinians Injuries\",\"Israelis Injuries\"]],\n",
    "    #                     legend_labels=[\"Palestinians\", 'Israelis'], pie_labels=[\"Fatalities\",'Injuries'], colors=colors, images_path=paths)\n",
    "    # piechart1.show_plot(save_filename=save_filename1)\n",
    "    # choices = [Choice.Fatalities, Choice.Injuries]\n",
    "    # img_names = ['\\outputs\\FatalitiesPie.html','\\outputs\\InjuriesPie.html']\n",
    "    # for choice, img in zip(choices,img_names):\n",
    "    #     save_filename2 = Project_Path+img\n",
    "    #     piechart2 = PieCharts(df, choice=choice)\n",
    "    #     piechart2.show_plot(save_filename=save_filename2)"
   ]
  },
  {
   "cell_type": "markdown",
   "metadata": {},
   "source": [
    "## Scatter Charts"
   ]
  },
  {
   "cell_type": "code",
   "execution_count": null,
   "metadata": {},
   "outputs": [],
   "source": [
    "# if __name__ == \"__main__\":\n",
    "#     #============== Histogram\n",
    "#     Project_Path = \"E:\\MyOnlineCourses\\ML_Projects\\Palestine-Israel-Conflict\"\n",
    "#     data = pd.read_excel(Project_Path+\"\\data\\ps_il.xlsx\")\n",
    "    # save_filename = Project_Path+\"\\outputs\"\n",
    "    # paths = [\"histogramI\",\"histogramF\"]\n",
    "    # config = Config()\n",
    "    # for col, path in zip(data.columns.tolist()[2:4],paths):\n",
    "    #    scatter_plot = Histogram(data=data,variable = col, config=config)\n",
    "    #    scatter_plot.show(f\"{save_filename}\\{path}.html\")\n",
    "    #============== PXScatter\n",
    "    # df = pd.read_csv(Project_Path+\"\\data\\ps_il.csv\")\n",
    "    # save_filename = Project_Path+\"\\outputs\"\n",
    "    # data=df.to_dict(orient=\"records\")\n",
    "    # title = \"Human Cost of Palestine-Israel Conflict From 2000 To April-2024\"\n",
    "    # paths = [\"Scatter_ps_i\",\"Scatter_ps_k\",\"Scatter_il_i\",'Scatter_il_k']\n",
    "    # config=Config()\n",
    "    # for col, path in zip(df.columns.tolist()[2:],paths):\n",
    "    #    scatter_plot = PXScatter(df=data,var = col, config=config)\n",
    "    #    scatter_plot.show(f\"{save_filename}\\{path}.html\")\n",
    "    # #============== Bubbles\n",
    "    # save_filename = Project_Path+\"\\outputs\\Bubbles.html\"\n",
    "    # title = \"Human Cost of Palestine-Israel Conflict<br>2000 To Aprile-2024\"\n",
    "    # config=Config()\n",
    "    # scatter_plot = Bubbles(data=data, config=config)\n",
    "    # scatter_plot.show()"
   ]
  }
 ],
 "metadata": {
  "kernelspec": {
   "display_name": "Python 3.8.19 ('picenv')",
   "language": "python",
   "name": "python3"
  },
  "language_info": {
   "codemirror_mode": {
    "name": "ipython",
    "version": 3
   },
   "file_extension": ".py",
   "mimetype": "text/x-python",
   "name": "python",
   "nbconvert_exporter": "python",
   "pygments_lexer": "ipython3",
   "version": "3.8.19"
  },
  "orig_nbformat": 4,
  "vscode": {
   "interpreter": {
    "hash": "dd1055c2cf3969f9779525733a07f01132aa9ee0a60c05bd2bceb56f6999ad39"
   }
  }
 },
 "nbformat": 4,
 "nbformat_minor": 2
}
